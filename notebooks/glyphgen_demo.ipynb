{
 "cells": [
  {
   "cell_type": "code",
   "execution_count": 1,
   "id": "fbc2e588",
   "metadata": {},
   "outputs": [],
   "source": [
    "# Standardbibliotheken\n",
    "import sys\n",
    "\n",
    "# Drittanbieter Libs\n",
    "from PIL import Image\n",
    "import numpy as np\n",
    "import matplotlib.pyplot as plt\n",
    "\n",
    "# eigene Module\n",
    "sys.path.append(\"../src\")\n",
    "from utils import luminance, clustersize"
   ]
  },
  {
   "cell_type": "code",
   "execution_count": 2,
   "id": "54b4ee37",
   "metadata": {},
   "outputs": [],
   "source": [
    "# Beispielbild laden\n",
    "img = Image.open(\"../assets/beispiel.jpg\").convert(\"RGB\")\n",
    "pixels = np.array(img)"
   ]
  },
  {
   "cell_type": "code",
   "execution_count": 3,
   "id": "6fe01a29",
   "metadata": {},
   "outputs": [
    {
     "data": {
      "image/png": "[encoded data removed]",
      "text/plain": [
       "<Figure size 640x480 with 1 Axes>"
      ]
     },
     "metadata": {},
     "output_type": "display_data"
    }
   ],
   "source": [
    "# Beispielbild anzeigen\n",
    "plt.imshow(img)\n",
    "plt.title(\"Originalbild\")\n",
    "plt.axis(\"off\")\n",
    "plt.show()"
   ]
  },
  {
   "cell_type": "code",
   "execution_count": 4,
   "id": "12a85ab3",
   "metadata": {},
   "outputs": [
    {
     "name": "stdout",
     "output_type": "stream",
     "text": [
      "33.0\n"
     ]
    }
   ],
   "source": [
    "# Test Vergleich von Pixel (0, 0) mit Pixel (10, 10), pixels[a, b] ist der pixel an der Stelle a, b auf dem Beispiel-Bild\n",
    "p1 = pixels[20, 30]\n",
    "helligkeit = luminance(p1)\n",
    "print(helligkeit)"
   ]
  },
  {
   "cell_type": "code",
   "execution_count": 5,
   "id": "5ffae8cc",
   "metadata": {},
   "outputs": [
    {
     "name": "stdout",
     "output_type": "stream",
     "text": [
      "90\n",
      "270\n"
     ]
    }
   ],
   "source": [
    "# Bildhöhe und -weite auslesen\n",
    "height, width = pixels.shape[:2]\n",
    "print(height)\n",
    "print(width)"
   ]
  },
  {
   "cell_type": "code",
   "execution_count": 6,
   "id": "927b4ede",
   "metadata": {},
   "outputs": [
    {
     "name": "stdout",
     "output_type": "stream",
     "text": [
      "(12, 37, 7.5, 7.297297297297297)\n"
     ]
    }
   ],
   "source": [
    "# berechnent die Größe der Cluster, damit diese auch gleich verteilt sind und kein Rand entsteht\n",
    "print(clustersize(7.25, height, width))"
   ]
  },
  {
   "cell_type": "markdown",
   "id": "7577664a",
   "metadata": {},
   "source": [
    "# Pseudocode für Glyphenbestimmung:\n",
    "\n",
    "```Glyphen_matrix ist Matrix mit cluster_y Höheneinträgen und cluster_x Breiteneinträgen  \n",
    "Für alle 0 <= i < cluster_y, 0 <= j < cluster_x do:  \n",
    "    Für alle i * cluster_height <= m < (i+1) * cluster_height, i*cluster_width <= n < (i+1)*cluster_width do:   \n",
    "        pixels[i * cluster_height,j*cluster_width] bis pixels[(i+1)*cluster_height, (j+1) * cluster_width]:  \n",
    "        helligkeiten_added = helligkeit_temp + luminance(pixels[m,n])  \n",
    "    cluster_helligkeit_durchschnitt = helligkeiten_added/(cluster_height * cluster_width)  \n",
    "    glyph_temp = getGlyph(cluster_helligkeit_durchschnitt)  \n",
    "    Glyphen_matrix[i,j] = glyph_temp"
   ]
  }
 ],
 "metadata": {
  "kernelspec": {
   "display_name": ".venv",
   "language": "python",
   "name": "python3"
  },
  "language_info": {
   "codemirror_mode": {
    "name": "ipython",
    "version": 3
   },
   "file_extension": ".py",
   "mimetype": "text/x-python",
   "name": "python",
   "nbconvert_exporter": "python",
   "pygments_lexer": "ipython3",
   "version": "3.13.5"
  }
 },
 "nbformat": 4,
 "nbformat_minor": 5
}
