{
 "cells": [
  {
   "cell_type": "code",
   "execution_count": null,
   "id": "fbc2e588",
   "metadata": {},
   "outputs": [
    {
     "name": "stdout",
     "output_type": "stream",
     "text": [
      "Lade lokale Schrift: c:\\Users\\Anna\\SynologyDrive\\Arbeit\\Freelance\\glyphgen\\assets\\Fira_Code\\FiraCode-VariableFont_wght.ttf\n"
     ]
    }
   ],
   "source": [
    "# Standardbibliotheken\n",
    "import sys\n",
    "\n",
    "# Drittanbieter Libs\n",
    "import numpy as np\n",
    "import matplotlib.pyplot as plt\n",
    "from PIL import ImageDraw, ImageFont, Image, ImageDraw\n",
    "from pathlib import Path\n",
    "\n",
    "# eigene Module\n",
    "sys.path.append(\"../src\")\n",
    "from utils import luminance, clustersize, getGlyph\n",
    "\n",
    "glyph_size = 20 #!!!!!!!!!!!!!!!!!!!!!!!!!!!!!!!!!!!!!!!!!!!!!!!!!!!!!!!!!!!!!!!!!!!!!!!!!!!!!!!!!!!!!!!!!!!!!!!!!!!!!!!!!!!!!!!!! Glyphengröße\n",
    "\n",
    "# Schriftart auswählen\n",
    "def load_monospace_font(size: int) -> ImageFont.FreeTypeFont:\n",
    "    local_path = Path.cwd().parent / \"assets\" / \"Fira_Code\" / \"FiraCode-VariableFont_wght.ttf\"\n",
    "    if local_path.exists():\n",
    "        print(f\"Lade lokale Schrift: {local_path}\")\n",
    "        return ImageFont.truetype(str(local_path), size=size)\n",
    "    else:\n",
    "        print(\"Schriftart nicht gefunden, fallback …\")\n",
    "        try:\n",
    "            return ImageFont.truetype(\"DejaVuSansMono.ttf\", size=size)\n",
    "        except Exception:\n",
    "            return ImageFont.load_default()\n",
    "        \n",
    "font = load_monospace_font(glyph_size-1)\n",
    "\n",
    "# Ordner festlegen\n",
    "input_dir = Path(\"./SEQUENZ\")         # hier liegen deine Eingangs-Bilder\n",
    "output_dir = Path(\"./SEQUENZ_ERGEBNIS\")        # hier sollen die Ergebnisse hin\n",
    "output_dir.mkdir(exist_ok=True)"
   ]
  },
  {
   "cell_type": "code",
   "execution_count": 86,
   "id": "44ec1bf9",
   "metadata": {},
   "outputs": [
    {
     "name": "stdout",
     "output_type": "stream",
     "text": [
      "0 Bilder gefunden.\n"
     ]
    }
   ],
   "source": [
    "image_files = list(input_dir.glob(\"*.png\"))\n",
    "print(f\"{len(image_files)} Bilder gefunden.\")"
   ]
  },
  {
   "cell_type": "code",
   "execution_count": 87,
   "id": "54b4ee37",
   "metadata": {},
   "outputs": [],
   "source": [
    "for img_path in image_files:\n",
    "    print(f\"Bearbeite {img_path.name} ...\")\n",
    "    \n",
    "    # 1) Bild laden\n",
    "    img = Image.open(img_path).convert(\"RGB\")\n",
    "    pixels = np.array(img)\n",
    "\n",
    "    # Bildhöhe und -weite auslesen\n",
    "    height, width = pixels.shape[:2]\n",
    "    print(f'Bildhöhe = {height}')\n",
    "    print(f'Bildbreite = {width}')\n",
    "\n",
    "    # berechnent die Größe der Cluster, damit diese auch gleich verteilt sind und kein Rand entsteht\n",
    "    cluster_y, cluster_x, cluster_height, cluster_width = clustersize(\n",
    "        glyph_size, height, width\n",
    "    )\n",
    "\n",
    "    cluster_y, cluster_x = int(cluster_y), int(cluster_x)\n",
    "\n",
    "    # 2D-Matrix für Glyphen (Liste von Listen)\n",
    "    glyphen_matrix = [[\"\" for _ in range(cluster_x)] for _ in range(cluster_y)]\n",
    "\n",
    "    for i in range(cluster_y):\n",
    "        for j in range(cluster_x):\n",
    "            helligkeiten_added = 0.0\n",
    "\n",
    "            # Blockbereich in Pixelkoordinaten\n",
    "            row_start = i * cluster_height\n",
    "            row_end   = (i + 1) * cluster_height\n",
    "            col_start = j * cluster_width\n",
    "            col_end   = (j + 1) * cluster_width\n",
    "\n",
    "            # Durchschnittshelligkeit des Blocks\n",
    "            \n",
    "            cluster_helligkeit_durchschnitt = luminance(tuple(pixels[(int((row_start+row_end)/2)), int((col_start+col_end)/2)]))\n",
    "\n",
    "            # Glyph bestimmen und in die Matrix schreiben\n",
    "            glyph_temp = getGlyph(cluster_helligkeit_durchschnitt)\n",
    "            glyphen_matrix[i][j] = glyph_temp\n",
    "\n",
    "    # Grid-Bild kopieren um drauf zu malen\n",
    "    overlay = Image.new(\"RGB\", img.size, color=(0, 0, 0))\n",
    "    draw = ImageDraw.Draw(overlay)\n",
    "\n",
    "    plt.imshow(img)\n",
    "    plt.title(\"Beispielbild ohne Grid\")\n",
    "    plt.axis(\"off\")\n",
    "    plt.show()\n",
    "    for i in range(cluster_y):\n",
    "        for j in range(cluster_x):\n",
    "            ch = glyphen_matrix[i][j] or \" \"\n",
    "\n",
    "            x0, y0 = j*cluster_width, i*cluster_height\n",
    "            x1, y1 = (j+1)*cluster_width, (i+1)*cluster_height\n",
    "            cx, cy = (x0 + x1) // 2, (y0 + y1) // 2\n",
    "\n",
    "            # Glyph ins Zentrum zeichnen\n",
    "            draw.text((cx, cy), ch, font=font,\n",
    "                    fill=(0, 0, 0),\n",
    "                    stroke_width=1, stroke_fill=(255, 255, 255),\n",
    "                    anchor=\"mm\")\n",
    "\n",
    "    plt.figure(figsize=(8, 8 * img.height / img.width))\n",
    "    plt.imshow(overlay)\n",
    "    plt.axis(\"off\")\n",
    "    plt.title(\"Glyphen über den Zellen (mit kleinem Abstand)\")\n",
    "    plt.show()\n",
    "        # 6) Ergebnis abspeichern\n",
    "    out_path = output_dir / f\"{img_path.stem}_glyphs.png\"\n",
    "    overlay.save(out_path)"
   ]
  }
 ],
 "metadata": {
  "kernelspec": {
   "display_name": ".venv",
   "language": "python",
   "name": "python3"
  },
  "language_info": {
   "codemirror_mode": {
    "name": "ipython",
    "version": 3
   },
   "file_extension": ".py",
   "mimetype": "text/x-python",
   "name": "python",
   "nbconvert_exporter": "python",
   "pygments_lexer": "ipython3",
   "version": "3.13.5"
  }
 },
 "nbformat": 4,
 "nbformat_minor": 5
}
