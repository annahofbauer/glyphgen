{
 "cells": [
  {
   "cell_type": "code",
   "execution_count": 1,
   "id": "1ff23b1b",
   "metadata": {},
   "outputs": [],
   "source": [
    "from PIL import Image, ImageDraw\n",
    "\n",
    "# Bildgröße\n",
    "width, height = 1920, 1080\n",
    "img = Image.new(\"RGB\", (width, height), color=\"white\")\n",
    "draw = ImageDraw.Draw(img)\n",
    "\n",
    "# Helligkeitsstufen (Schwarz → Weiß in 9 Blöcken)\n",
    "block_width = 30\n",
    "for i in range(9):\n",
    "    gray = int((i / 8) * 255)  # 0 bis 255 in 9 Stufen\n",
    "    x0 = i * block_width\n",
    "    x1 = x0 + block_width - 1\n",
    "    draw.rectangle([x0, 0, x1, 39], fill=(gray, gray, gray))\n",
    "\n",
    "# Weicher horizontaler Verlauf darunter\n",
    "for x in range(width):\n",
    "    gray = int((x / width) * 255)\n",
    "    draw.line([(x, 50), (x, height - 1)], fill=(gray, gray, gray))\n",
    "\n",
    "# Bild speichern und anzeigen\n",
    "img.save(\"beispiel.jpg\")\n",
    "img.show()"
   ]
  }
 ],
 "metadata": {
  "kernelspec": {
   "display_name": ".venv",
   "language": "python",
   "name": "python3"
  },
  "language_info": {
   "codemirror_mode": {
    "name": "ipython",
    "version": 3
   },
   "file_extension": ".py",
   "mimetype": "text/x-python",
   "name": "python",
   "nbconvert_exporter": "python",
   "pygments_lexer": "ipython3",
   "version": "3.13.5"
  }
 },
 "nbformat": 4,
 "nbformat_minor": 5
}
